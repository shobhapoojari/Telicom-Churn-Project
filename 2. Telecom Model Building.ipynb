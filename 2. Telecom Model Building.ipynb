{
 "cells": [
  {
   "cell_type": "code",
   "execution_count": 1,
   "id": "f3a1dd76",
   "metadata": {},
   "outputs": [],
   "source": [
    "import numpy as np\n",
    "import pandas as pd\n",
    "import matplotlib.pyplot as plt\n",
    "import seaborn as sns"
   ]
  },
  {
   "cell_type": "code",
   "execution_count": 2,
   "id": "2f81ceb1",
   "metadata": {},
   "outputs": [
    {
     "data": {
      "text/html": [
       "<div>\n",
       "<style scoped>\n",
       "    .dataframe tbody tr th:only-of-type {\n",
       "        vertical-align: middle;\n",
       "    }\n",
       "\n",
       "    .dataframe tbody tr th {\n",
       "        vertical-align: top;\n",
       "    }\n",
       "\n",
       "    .dataframe thead th {\n",
       "        text-align: right;\n",
       "    }\n",
       "</style>\n",
       "<table border=\"1\" class=\"dataframe\">\n",
       "  <thead>\n",
       "    <tr style=\"text-align: right;\">\n",
       "      <th></th>\n",
       "      <th>Unnamed: 0</th>\n",
       "      <th>account_length</th>\n",
       "      <th>voice_mail_messages</th>\n",
       "      <th>customer_service_calls</th>\n",
       "      <th>international_plan</th>\n",
       "      <th>day_calls</th>\n",
       "      <th>day_charge</th>\n",
       "      <th>evening_calls</th>\n",
       "      <th>evening_charge</th>\n",
       "      <th>night_calls</th>\n",
       "      <th>night_charge</th>\n",
       "      <th>international_calls</th>\n",
       "      <th>international_charge</th>\n",
       "      <th>total_charge</th>\n",
       "      <th>churn</th>\n",
       "    </tr>\n",
       "  </thead>\n",
       "  <tbody>\n",
       "    <tr>\n",
       "      <th>0</th>\n",
       "      <td>0</td>\n",
       "      <td>128</td>\n",
       "      <td>25</td>\n",
       "      <td>1</td>\n",
       "      <td>0</td>\n",
       "      <td>110</td>\n",
       "      <td>45.07</td>\n",
       "      <td>99</td>\n",
       "      <td>16.78</td>\n",
       "      <td>91</td>\n",
       "      <td>11.01</td>\n",
       "      <td>3</td>\n",
       "      <td>2.70</td>\n",
       "      <td>75.56</td>\n",
       "      <td>0</td>\n",
       "    </tr>\n",
       "    <tr>\n",
       "      <th>1</th>\n",
       "      <td>1</td>\n",
       "      <td>107</td>\n",
       "      <td>26</td>\n",
       "      <td>1</td>\n",
       "      <td>0</td>\n",
       "      <td>123</td>\n",
       "      <td>27.47</td>\n",
       "      <td>103</td>\n",
       "      <td>16.62</td>\n",
       "      <td>103</td>\n",
       "      <td>11.45</td>\n",
       "      <td>3</td>\n",
       "      <td>3.70</td>\n",
       "      <td>59.24</td>\n",
       "      <td>0</td>\n",
       "    </tr>\n",
       "    <tr>\n",
       "      <th>2</th>\n",
       "      <td>2</td>\n",
       "      <td>137</td>\n",
       "      <td>0</td>\n",
       "      <td>0</td>\n",
       "      <td>0</td>\n",
       "      <td>114</td>\n",
       "      <td>41.38</td>\n",
       "      <td>110</td>\n",
       "      <td>10.30</td>\n",
       "      <td>104</td>\n",
       "      <td>7.32</td>\n",
       "      <td>5</td>\n",
       "      <td>3.29</td>\n",
       "      <td>62.29</td>\n",
       "      <td>0</td>\n",
       "    </tr>\n",
       "    <tr>\n",
       "      <th>3</th>\n",
       "      <td>3</td>\n",
       "      <td>84</td>\n",
       "      <td>0</td>\n",
       "      <td>2</td>\n",
       "      <td>1</td>\n",
       "      <td>71</td>\n",
       "      <td>50.90</td>\n",
       "      <td>88</td>\n",
       "      <td>5.26</td>\n",
       "      <td>89</td>\n",
       "      <td>8.86</td>\n",
       "      <td>7</td>\n",
       "      <td>1.78</td>\n",
       "      <td>66.80</td>\n",
       "      <td>0</td>\n",
       "    </tr>\n",
       "    <tr>\n",
       "      <th>4</th>\n",
       "      <td>4</td>\n",
       "      <td>75</td>\n",
       "      <td>0</td>\n",
       "      <td>3</td>\n",
       "      <td>1</td>\n",
       "      <td>113</td>\n",
       "      <td>28.34</td>\n",
       "      <td>122</td>\n",
       "      <td>12.61</td>\n",
       "      <td>121</td>\n",
       "      <td>8.41</td>\n",
       "      <td>3</td>\n",
       "      <td>2.73</td>\n",
       "      <td>52.09</td>\n",
       "      <td>0</td>\n",
       "    </tr>\n",
       "    <tr>\n",
       "      <th>...</th>\n",
       "      <td>...</td>\n",
       "      <td>...</td>\n",
       "      <td>...</td>\n",
       "      <td>...</td>\n",
       "      <td>...</td>\n",
       "      <td>...</td>\n",
       "      <td>...</td>\n",
       "      <td>...</td>\n",
       "      <td>...</td>\n",
       "      <td>...</td>\n",
       "      <td>...</td>\n",
       "      <td>...</td>\n",
       "      <td>...</td>\n",
       "      <td>...</td>\n",
       "      <td>...</td>\n",
       "    </tr>\n",
       "    <tr>\n",
       "      <th>5695</th>\n",
       "      <td>5695</td>\n",
       "      <td>75</td>\n",
       "      <td>0</td>\n",
       "      <td>1</td>\n",
       "      <td>1</td>\n",
       "      <td>78</td>\n",
       "      <td>37.81</td>\n",
       "      <td>111</td>\n",
       "      <td>27.80</td>\n",
       "      <td>104</td>\n",
       "      <td>9.36</td>\n",
       "      <td>9</td>\n",
       "      <td>2.35</td>\n",
       "      <td>77.32</td>\n",
       "      <td>1</td>\n",
       "    </tr>\n",
       "    <tr>\n",
       "      <th>5696</th>\n",
       "      <td>5696</td>\n",
       "      <td>115</td>\n",
       "      <td>0</td>\n",
       "      <td>2</td>\n",
       "      <td>1</td>\n",
       "      <td>110</td>\n",
       "      <td>20.74</td>\n",
       "      <td>100</td>\n",
       "      <td>18.72</td>\n",
       "      <td>124</td>\n",
       "      <td>8.09</td>\n",
       "      <td>2</td>\n",
       "      <td>2.92</td>\n",
       "      <td>50.47</td>\n",
       "      <td>1</td>\n",
       "    </tr>\n",
       "    <tr>\n",
       "      <th>5697</th>\n",
       "      <td>5697</td>\n",
       "      <td>145</td>\n",
       "      <td>0</td>\n",
       "      <td>1</td>\n",
       "      <td>0</td>\n",
       "      <td>116</td>\n",
       "      <td>41.79</td>\n",
       "      <td>91</td>\n",
       "      <td>24.37</td>\n",
       "      <td>115</td>\n",
       "      <td>10.83</td>\n",
       "      <td>13</td>\n",
       "      <td>2.43</td>\n",
       "      <td>79.42</td>\n",
       "      <td>1</td>\n",
       "    </tr>\n",
       "    <tr>\n",
       "      <th>5698</th>\n",
       "      <td>5698</td>\n",
       "      <td>69</td>\n",
       "      <td>33</td>\n",
       "      <td>1</td>\n",
       "      <td>1</td>\n",
       "      <td>98</td>\n",
       "      <td>46.16</td>\n",
       "      <td>102</td>\n",
       "      <td>21.54</td>\n",
       "      <td>85</td>\n",
       "      <td>7.44</td>\n",
       "      <td>2</td>\n",
       "      <td>2.21</td>\n",
       "      <td>77.35</td>\n",
       "      <td>1</td>\n",
       "    </tr>\n",
       "    <tr>\n",
       "      <th>5699</th>\n",
       "      <td>5699</td>\n",
       "      <td>123</td>\n",
       "      <td>0</td>\n",
       "      <td>4</td>\n",
       "      <td>1</td>\n",
       "      <td>106</td>\n",
       "      <td>21.34</td>\n",
       "      <td>96</td>\n",
       "      <td>10.96</td>\n",
       "      <td>129</td>\n",
       "      <td>11.34</td>\n",
       "      <td>6</td>\n",
       "      <td>1.70</td>\n",
       "      <td>45.34</td>\n",
       "      <td>1</td>\n",
       "    </tr>\n",
       "  </tbody>\n",
       "</table>\n",
       "<p>5700 rows × 15 columns</p>\n",
       "</div>"
      ],
      "text/plain": [
       "      Unnamed: 0  account_length  voice_mail_messages  customer_service_calls  \\\n",
       "0              0             128                   25                       1   \n",
       "1              1             107                   26                       1   \n",
       "2              2             137                    0                       0   \n",
       "3              3              84                    0                       2   \n",
       "4              4              75                    0                       3   \n",
       "...          ...             ...                  ...                     ...   \n",
       "5695        5695              75                    0                       1   \n",
       "5696        5696             115                    0                       2   \n",
       "5697        5697             145                    0                       1   \n",
       "5698        5698              69                   33                       1   \n",
       "5699        5699             123                    0                       4   \n",
       "\n",
       "      international_plan  day_calls  day_charge  evening_calls  \\\n",
       "0                      0        110       45.07             99   \n",
       "1                      0        123       27.47            103   \n",
       "2                      0        114       41.38            110   \n",
       "3                      1         71       50.90             88   \n",
       "4                      1        113       28.34            122   \n",
       "...                  ...        ...         ...            ...   \n",
       "5695                   1         78       37.81            111   \n",
       "5696                   1        110       20.74            100   \n",
       "5697                   0        116       41.79             91   \n",
       "5698                   1         98       46.16            102   \n",
       "5699                   1        106       21.34             96   \n",
       "\n",
       "      evening_charge  night_calls  night_charge  international_calls  \\\n",
       "0              16.78           91         11.01                    3   \n",
       "1              16.62          103         11.45                    3   \n",
       "2              10.30          104          7.32                    5   \n",
       "3               5.26           89          8.86                    7   \n",
       "4              12.61          121          8.41                    3   \n",
       "...              ...          ...           ...                  ...   \n",
       "5695           27.80          104          9.36                    9   \n",
       "5696           18.72          124          8.09                    2   \n",
       "5697           24.37          115         10.83                   13   \n",
       "5698           21.54           85          7.44                    2   \n",
       "5699           10.96          129         11.34                    6   \n",
       "\n",
       "      international_charge  total_charge  churn  \n",
       "0                     2.70         75.56      0  \n",
       "1                     3.70         59.24      0  \n",
       "2                     3.29         62.29      0  \n",
       "3                     1.78         66.80      0  \n",
       "4                     2.73         52.09      0  \n",
       "...                    ...           ...    ...  \n",
       "5695                  2.35         77.32      1  \n",
       "5696                  2.92         50.47      1  \n",
       "5697                  2.43         79.42      1  \n",
       "5698                  2.21         77.35      1  \n",
       "5699                  1.70         45.34      1  \n",
       "\n",
       "[5700 rows x 15 columns]"
      ]
     },
     "execution_count": 2,
     "metadata": {},
     "output_type": "execute_result"
    }
   ],
   "source": [
    "telecom = pd.read_csv(\"Churn Final_data.csv\")\n",
    "telecom"
   ]
  },
  {
   "cell_type": "code",
   "execution_count": 3,
   "id": "e08a738d",
   "metadata": {},
   "outputs": [],
   "source": [
    "telecom = telecom.drop(\"Unnamed: 0\",axis=1)"
   ]
  },
  {
   "cell_type": "code",
   "execution_count": 4,
   "id": "ecdc6cd5",
   "metadata": {},
   "outputs": [
    {
     "data": {
      "text/html": [
       "<div>\n",
       "<style scoped>\n",
       "    .dataframe tbody tr th:only-of-type {\n",
       "        vertical-align: middle;\n",
       "    }\n",
       "\n",
       "    .dataframe tbody tr th {\n",
       "        vertical-align: top;\n",
       "    }\n",
       "\n",
       "    .dataframe thead th {\n",
       "        text-align: right;\n",
       "    }\n",
       "</style>\n",
       "<table border=\"1\" class=\"dataframe\">\n",
       "  <thead>\n",
       "    <tr style=\"text-align: right;\">\n",
       "      <th></th>\n",
       "      <th>account_length</th>\n",
       "      <th>voice_mail_messages</th>\n",
       "      <th>customer_service_calls</th>\n",
       "      <th>international_plan</th>\n",
       "      <th>day_calls</th>\n",
       "      <th>day_charge</th>\n",
       "      <th>evening_calls</th>\n",
       "      <th>evening_charge</th>\n",
       "      <th>night_calls</th>\n",
       "      <th>night_charge</th>\n",
       "      <th>international_calls</th>\n",
       "      <th>international_charge</th>\n",
       "      <th>total_charge</th>\n",
       "      <th>churn</th>\n",
       "    </tr>\n",
       "  </thead>\n",
       "  <tbody>\n",
       "    <tr>\n",
       "      <th>0</th>\n",
       "      <td>128</td>\n",
       "      <td>25</td>\n",
       "      <td>1</td>\n",
       "      <td>0</td>\n",
       "      <td>110</td>\n",
       "      <td>45.07</td>\n",
       "      <td>99</td>\n",
       "      <td>16.78</td>\n",
       "      <td>91</td>\n",
       "      <td>11.01</td>\n",
       "      <td>3</td>\n",
       "      <td>2.70</td>\n",
       "      <td>75.56</td>\n",
       "      <td>0</td>\n",
       "    </tr>\n",
       "    <tr>\n",
       "      <th>1</th>\n",
       "      <td>107</td>\n",
       "      <td>26</td>\n",
       "      <td>1</td>\n",
       "      <td>0</td>\n",
       "      <td>123</td>\n",
       "      <td>27.47</td>\n",
       "      <td>103</td>\n",
       "      <td>16.62</td>\n",
       "      <td>103</td>\n",
       "      <td>11.45</td>\n",
       "      <td>3</td>\n",
       "      <td>3.70</td>\n",
       "      <td>59.24</td>\n",
       "      <td>0</td>\n",
       "    </tr>\n",
       "    <tr>\n",
       "      <th>2</th>\n",
       "      <td>137</td>\n",
       "      <td>0</td>\n",
       "      <td>0</td>\n",
       "      <td>0</td>\n",
       "      <td>114</td>\n",
       "      <td>41.38</td>\n",
       "      <td>110</td>\n",
       "      <td>10.30</td>\n",
       "      <td>104</td>\n",
       "      <td>7.32</td>\n",
       "      <td>5</td>\n",
       "      <td>3.29</td>\n",
       "      <td>62.29</td>\n",
       "      <td>0</td>\n",
       "    </tr>\n",
       "    <tr>\n",
       "      <th>3</th>\n",
       "      <td>84</td>\n",
       "      <td>0</td>\n",
       "      <td>2</td>\n",
       "      <td>1</td>\n",
       "      <td>71</td>\n",
       "      <td>50.90</td>\n",
       "      <td>88</td>\n",
       "      <td>5.26</td>\n",
       "      <td>89</td>\n",
       "      <td>8.86</td>\n",
       "      <td>7</td>\n",
       "      <td>1.78</td>\n",
       "      <td>66.80</td>\n",
       "      <td>0</td>\n",
       "    </tr>\n",
       "    <tr>\n",
       "      <th>4</th>\n",
       "      <td>75</td>\n",
       "      <td>0</td>\n",
       "      <td>3</td>\n",
       "      <td>1</td>\n",
       "      <td>113</td>\n",
       "      <td>28.34</td>\n",
       "      <td>122</td>\n",
       "      <td>12.61</td>\n",
       "      <td>121</td>\n",
       "      <td>8.41</td>\n",
       "      <td>3</td>\n",
       "      <td>2.73</td>\n",
       "      <td>52.09</td>\n",
       "      <td>0</td>\n",
       "    </tr>\n",
       "    <tr>\n",
       "      <th>...</th>\n",
       "      <td>...</td>\n",
       "      <td>...</td>\n",
       "      <td>...</td>\n",
       "      <td>...</td>\n",
       "      <td>...</td>\n",
       "      <td>...</td>\n",
       "      <td>...</td>\n",
       "      <td>...</td>\n",
       "      <td>...</td>\n",
       "      <td>...</td>\n",
       "      <td>...</td>\n",
       "      <td>...</td>\n",
       "      <td>...</td>\n",
       "      <td>...</td>\n",
       "    </tr>\n",
       "    <tr>\n",
       "      <th>5695</th>\n",
       "      <td>75</td>\n",
       "      <td>0</td>\n",
       "      <td>1</td>\n",
       "      <td>1</td>\n",
       "      <td>78</td>\n",
       "      <td>37.81</td>\n",
       "      <td>111</td>\n",
       "      <td>27.80</td>\n",
       "      <td>104</td>\n",
       "      <td>9.36</td>\n",
       "      <td>9</td>\n",
       "      <td>2.35</td>\n",
       "      <td>77.32</td>\n",
       "      <td>1</td>\n",
       "    </tr>\n",
       "    <tr>\n",
       "      <th>5696</th>\n",
       "      <td>115</td>\n",
       "      <td>0</td>\n",
       "      <td>2</td>\n",
       "      <td>1</td>\n",
       "      <td>110</td>\n",
       "      <td>20.74</td>\n",
       "      <td>100</td>\n",
       "      <td>18.72</td>\n",
       "      <td>124</td>\n",
       "      <td>8.09</td>\n",
       "      <td>2</td>\n",
       "      <td>2.92</td>\n",
       "      <td>50.47</td>\n",
       "      <td>1</td>\n",
       "    </tr>\n",
       "    <tr>\n",
       "      <th>5697</th>\n",
       "      <td>145</td>\n",
       "      <td>0</td>\n",
       "      <td>1</td>\n",
       "      <td>0</td>\n",
       "      <td>116</td>\n",
       "      <td>41.79</td>\n",
       "      <td>91</td>\n",
       "      <td>24.37</td>\n",
       "      <td>115</td>\n",
       "      <td>10.83</td>\n",
       "      <td>13</td>\n",
       "      <td>2.43</td>\n",
       "      <td>79.42</td>\n",
       "      <td>1</td>\n",
       "    </tr>\n",
       "    <tr>\n",
       "      <th>5698</th>\n",
       "      <td>69</td>\n",
       "      <td>33</td>\n",
       "      <td>1</td>\n",
       "      <td>1</td>\n",
       "      <td>98</td>\n",
       "      <td>46.16</td>\n",
       "      <td>102</td>\n",
       "      <td>21.54</td>\n",
       "      <td>85</td>\n",
       "      <td>7.44</td>\n",
       "      <td>2</td>\n",
       "      <td>2.21</td>\n",
       "      <td>77.35</td>\n",
       "      <td>1</td>\n",
       "    </tr>\n",
       "    <tr>\n",
       "      <th>5699</th>\n",
       "      <td>123</td>\n",
       "      <td>0</td>\n",
       "      <td>4</td>\n",
       "      <td>1</td>\n",
       "      <td>106</td>\n",
       "      <td>21.34</td>\n",
       "      <td>96</td>\n",
       "      <td>10.96</td>\n",
       "      <td>129</td>\n",
       "      <td>11.34</td>\n",
       "      <td>6</td>\n",
       "      <td>1.70</td>\n",
       "      <td>45.34</td>\n",
       "      <td>1</td>\n",
       "    </tr>\n",
       "  </tbody>\n",
       "</table>\n",
       "<p>5700 rows × 14 columns</p>\n",
       "</div>"
      ],
      "text/plain": [
       "      account_length  voice_mail_messages  customer_service_calls  \\\n",
       "0                128                   25                       1   \n",
       "1                107                   26                       1   \n",
       "2                137                    0                       0   \n",
       "3                 84                    0                       2   \n",
       "4                 75                    0                       3   \n",
       "...              ...                  ...                     ...   \n",
       "5695              75                    0                       1   \n",
       "5696             115                    0                       2   \n",
       "5697             145                    0                       1   \n",
       "5698              69                   33                       1   \n",
       "5699             123                    0                       4   \n",
       "\n",
       "      international_plan  day_calls  day_charge  evening_calls  \\\n",
       "0                      0        110       45.07             99   \n",
       "1                      0        123       27.47            103   \n",
       "2                      0        114       41.38            110   \n",
       "3                      1         71       50.90             88   \n",
       "4                      1        113       28.34            122   \n",
       "...                  ...        ...         ...            ...   \n",
       "5695                   1         78       37.81            111   \n",
       "5696                   1        110       20.74            100   \n",
       "5697                   0        116       41.79             91   \n",
       "5698                   1         98       46.16            102   \n",
       "5699                   1        106       21.34             96   \n",
       "\n",
       "      evening_charge  night_calls  night_charge  international_calls  \\\n",
       "0              16.78           91         11.01                    3   \n",
       "1              16.62          103         11.45                    3   \n",
       "2              10.30          104          7.32                    5   \n",
       "3               5.26           89          8.86                    7   \n",
       "4              12.61          121          8.41                    3   \n",
       "...              ...          ...           ...                  ...   \n",
       "5695           27.80          104          9.36                    9   \n",
       "5696           18.72          124          8.09                    2   \n",
       "5697           24.37          115         10.83                   13   \n",
       "5698           21.54           85          7.44                    2   \n",
       "5699           10.96          129         11.34                    6   \n",
       "\n",
       "      international_charge  total_charge  churn  \n",
       "0                     2.70         75.56      0  \n",
       "1                     3.70         59.24      0  \n",
       "2                     3.29         62.29      0  \n",
       "3                     1.78         66.80      0  \n",
       "4                     2.73         52.09      0  \n",
       "...                    ...           ...    ...  \n",
       "5695                  2.35         77.32      1  \n",
       "5696                  2.92         50.47      1  \n",
       "5697                  2.43         79.42      1  \n",
       "5698                  2.21         77.35      1  \n",
       "5699                  1.70         45.34      1  \n",
       "\n",
       "[5700 rows x 14 columns]"
      ]
     },
     "execution_count": 4,
     "metadata": {},
     "output_type": "execute_result"
    }
   ],
   "source": [
    "telecom"
   ]
  },
  {
   "cell_type": "markdown",
   "id": "4404accb",
   "metadata": {},
   "source": [
    "# Feature and Target"
   ]
  },
  {
   "cell_type": "code",
   "execution_count": 5,
   "id": "a89e44ba",
   "metadata": {},
   "outputs": [],
   "source": [
    "X = telecom.drop(\"churn\",axis=1).values\n",
    "y = telecom[\"churn\"]"
   ]
  },
  {
   "cell_type": "code",
   "execution_count": 6,
   "id": "2559a006",
   "metadata": {},
   "outputs": [
    {
     "data": {
      "text/plain": [
       "array([[128.  ,  25.  ,   1.  , ...,   3.  ,   2.7 ,  75.56],\n",
       "       [107.  ,  26.  ,   1.  , ...,   3.  ,   3.7 ,  59.24],\n",
       "       [137.  ,   0.  ,   0.  , ...,   5.  ,   3.29,  62.29],\n",
       "       ...,\n",
       "       [145.  ,   0.  ,   1.  , ...,  13.  ,   2.43,  79.42],\n",
       "       [ 69.  ,  33.  ,   1.  , ...,   2.  ,   2.21,  77.35],\n",
       "       [123.  ,   0.  ,   4.  , ...,   6.  ,   1.7 ,  45.34]])"
      ]
     },
     "execution_count": 6,
     "metadata": {},
     "output_type": "execute_result"
    }
   ],
   "source": [
    "X"
   ]
  },
  {
   "cell_type": "code",
   "execution_count": 7,
   "id": "348cf30b",
   "metadata": {},
   "outputs": [
    {
     "data": {
      "text/plain": [
       "0       0\n",
       "1       0\n",
       "2       0\n",
       "3       0\n",
       "4       0\n",
       "       ..\n",
       "5695    1\n",
       "5696    1\n",
       "5697    1\n",
       "5698    1\n",
       "5699    1\n",
       "Name: churn, Length: 5700, dtype: int64"
      ]
     },
     "execution_count": 7,
     "metadata": {},
     "output_type": "execute_result"
    }
   ],
   "source": [
    "y"
   ]
  },
  {
   "cell_type": "markdown",
   "id": "4f1c88cb",
   "metadata": {},
   "source": [
    "# Feature Scaling"
   ]
  },
  {
   "cell_type": "code",
   "execution_count": 8,
   "id": "0b31343c",
   "metadata": {},
   "outputs": [],
   "source": [
    "from sklearn.preprocessing import StandardScaler\n",
    "sc = StandardScaler()\n",
    "x = sc.fit_transform(X)"
   ]
  },
  {
   "cell_type": "markdown",
   "id": "465623c7",
   "metadata": {},
   "source": [
    "# Train and Test Split"
   ]
  },
  {
   "cell_type": "code",
   "execution_count": 9,
   "id": "2e0e01fa",
   "metadata": {},
   "outputs": [],
   "source": [
    "from sklearn.model_selection import train_test_split"
   ]
  },
  {
   "cell_type": "code",
   "execution_count": 10,
   "id": "5fd69a1f",
   "metadata": {},
   "outputs": [],
   "source": [
    "X_train,X_test,y_train,y_test = train_test_split(x,y,train_size=0.75,random_state=0)"
   ]
  },
  {
   "cell_type": "code",
   "execution_count": 11,
   "id": "e1e8f222",
   "metadata": {},
   "outputs": [
    {
     "data": {
      "text/plain": [
       "((4275, 13), (1425, 13))"
      ]
     },
     "execution_count": 11,
     "metadata": {},
     "output_type": "execute_result"
    }
   ],
   "source": [
    "X_train.shape,X_test.shape"
   ]
  },
  {
   "cell_type": "code",
   "execution_count": 12,
   "id": "7dcc7d72",
   "metadata": {},
   "outputs": [
    {
     "data": {
      "text/plain": [
       "((4275,), (1425,))"
      ]
     },
     "execution_count": 12,
     "metadata": {},
     "output_type": "execute_result"
    }
   ],
   "source": [
    "y_train.shape,y_test.shape"
   ]
  },
  {
   "cell_type": "markdown",
   "id": "5d71a5ea",
   "metadata": {},
   "source": [
    "# Logistic Regression"
   ]
  },
  {
   "cell_type": "raw",
   "id": "604fd9ca",
   "metadata": {},
   "source": [
    "Logistic Regression meaning:\n",
    "Logistic Regression is a Machine Learning algorithm which is used for the classification problems, it is a predictive\n",
    "analysis algorithm and based on the concept of probability."
   ]
  },
  {
   "cell_type": "raw",
   "id": "7b63478a",
   "metadata": {},
   "source": [
    "F1-score meaning:\n",
    "F1-score is one of the most important evaluation metrics in machine learning. It elegantly sums up the predictive performance of a model by combining two otherwise competing metrics — precision and recall.\n",
    "\n",
    "Precision:\n",
    "The precision means hwo acuurate you are when you say someonw will like it.\n",
    "\n",
    "Recall:\n",
    "Recall is how good you are identifying people who actually like it.\n",
    "\n",
    "Confusion Matrix:\n",
    "A confusion matrix is a table that is used to define the performance of a classification algorithm."
   ]
  },
  {
   "cell_type": "code",
   "execution_count": 13,
   "id": "feab38be",
   "metadata": {},
   "outputs": [],
   "source": [
    "from sklearn.linear_model import LogisticRegression\n",
    "lg=LogisticRegression()\n",
    "model1=lg.fit(X_train,y_train)\n",
    "pred1=model1.predict(X_test)"
   ]
  },
  {
   "cell_type": "code",
   "execution_count": 14,
   "id": "895d0d6b",
   "metadata": {},
   "outputs": [
    {
     "name": "stdout",
     "output_type": "stream",
     "text": [
      "0.7645390070921985\n",
      "0.7834302325581395\n",
      "0.7465373961218836\n",
      "[[554 149]\n",
      " [183 539]]\n",
      "0.7670175438596492\n"
     ]
    }
   ],
   "source": [
    "from sklearn.metrics import f1_score,precision_score,recall_score,confusion_matrix\n",
    "print(f1_score(y_test,pred1))\n",
    "print(precision_score(y_test,pred1))\n",
    "print(recall_score(y_test,pred1))\n",
    "print(confusion_matrix(y_test,pred1))\n",
    "print(np.mean(y_test==pred1))"
   ]
  },
  {
   "cell_type": "code",
   "execution_count": 15,
   "id": "4def69f7",
   "metadata": {},
   "outputs": [
    {
     "data": {
      "text/plain": [
       "<AxesSubplot:>"
      ]
     },
     "execution_count": 15,
     "metadata": {},
     "output_type": "execute_result"
    },
    {
     "data": {
      "image/png": "[encoded data removed]",
      "text/plain": [
       "<Figure size 432x288 with 2 Axes>"
      ]
     },
     "metadata": {
      "needs_background": "light"
     },
     "output_type": "display_data"
    }
   ],
   "source": [
    "sns.heatmap(confusion_matrix(y_test,pred1), annot=True, fmt='.2f', cmap='seismic_r')"
   ]
  },
  {
   "cell_type": "markdown",
   "id": "d2444503",
   "metadata": {},
   "source": [
    "# ROC - AUC For Logistic Regression"
   ]
  },
  {
   "cell_type": "code",
   "execution_count": 16,
   "id": "db5d4ed3",
   "metadata": {},
   "outputs": [
    {
     "data": {
      "text/plain": [
       "0.7672943026128622"
      ]
     },
     "execution_count": 16,
     "metadata": {},
     "output_type": "execute_result"
    }
   ],
   "source": [
    "from sklearn.metrics import roc_curve,auc\n",
    "\n",
    "fpr,tpr,thresh = roc_curve(y_test,pred1)\n",
    "a = auc(fpr,tpr)\n",
    "a"
   ]
  },
  {
   "cell_type": "code",
   "execution_count": 17,
   "id": "582c00f5",
   "metadata": {},
   "outputs": [
    {
     "data": {
      "image/png": "[encoded data removed]",
      "text/plain": [
       "<Figure size 432x288 with 1 Axes>"
      ]
     },
     "metadata": {
      "needs_background": "light"
     },
     "output_type": "display_data"
    }
   ],
   "source": [
    "plt.plot(fpr, tpr, label='ROC curve (area = %0.3f)' % a,color=\"green\")\n",
    "plt.plot([0, 1], [0, 1], '--',color=\"blue\")\n",
    "plt.xlabel('False Positive Rate')\n",
    "plt.ylabel('True Positive Rate')\n",
    "plt.title('Receiverrating characteristic example')\n",
    "plt.grid()\n",
    "plt.legend()\n",
    "plt.show()"
   ]
  },
  {
   "cell_type": "markdown",
   "id": "4068d111",
   "metadata": {},
   "source": [
    "# K-Nearest Neighbors Algorithm(KNN)"
   ]
  },
  {
   "cell_type": "raw",
   "id": "f206952a",
   "metadata": {},
   "source": [
    "K-Nearest Neighbour is a simple algorithm that stores all the variable cases and classifies the new\n",
    "data based on the similarity measure."
   ]
  },
  {
   "cell_type": "code",
   "execution_count": 18,
   "id": "26371d9b",
   "metadata": {},
   "outputs": [],
   "source": [
    "from sklearn.neighbors import KNeighborsClassifier\n",
    "knn=KNeighborsClassifier()\n",
    "model2=knn.fit(X_train,y_train)\n",
    "pred2=model2.predict(X_test)"
   ]
  },
  {
   "cell_type": "code",
   "execution_count": 19,
   "id": "6f885696",
   "metadata": {},
   "outputs": [
    {
     "name": "stdout",
     "output_type": "stream",
     "text": [
      "0.9043250327653997\n",
      "0.8582089552238806\n",
      "0.9556786703601108\n",
      "[[589 114]\n",
      " [ 32 690]]\n",
      "0.8975438596491228\n"
     ]
    }
   ],
   "source": [
    "print(f1_score(y_test,pred2))\n",
    "print(precision_score(y_test,pred2))\n",
    "print(recall_score(y_test,pred2))\n",
    "print(confusion_matrix(y_test,pred2))\n",
    "print(np.mean(y_test==pred2))"
   ]
  },
  {
   "cell_type": "code",
   "execution_count": 20,
   "id": "c731b7cf",
   "metadata": {},
   "outputs": [
    {
     "data": {
      "text/plain": [
       "<AxesSubplot:>"
      ]
     },
     "execution_count": 20,
     "metadata": {},
     "output_type": "execute_result"
    },
    {
     "data": {
      "image/png": "[encoded data removed]",
      "text/plain": [
       "<Figure size 432x288 with 2 Axes>"
      ]
     },
     "metadata": {
      "needs_background": "light"
     },
     "output_type": "display_data"
    }
   ],
   "source": [
    "sns.heatmap(confusion_matrix(y_test,pred2), annot=True, fmt='.2f', cmap='seismic_r')"
   ]
  },
  {
   "cell_type": "markdown",
   "id": "6db4e673",
   "metadata": {},
   "source": [
    "# Random Forest"
   ]
  },
  {
   "cell_type": "raw",
   "id": "7ff7b11b",
   "metadata": {},
   "source": [
    "Random forest is constructed using multiple decision tree and final decision is obtained by mejority votes decision tree."
   ]
  },
  {
   "cell_type": "code",
   "execution_count": 21,
   "id": "26762ace",
   "metadata": {},
   "outputs": [],
   "source": [
    "from sklearn.ensemble import RandomForestClassifier\n",
    "rf=RandomForestClassifier()\n",
    "model3=rf.fit(X_train,y_train)\n",
    "pred3=model3.predict(X_test)"
   ]
  },
  {
   "cell_type": "code",
   "execution_count": 22,
   "id": "308531d5",
   "metadata": {},
   "outputs": [
    {
     "name": "stdout",
     "output_type": "stream",
     "text": [
      "0.9979238754325259\n",
      "0.9972337482710927\n",
      "0.9986149584487535\n",
      "[[701   2]\n",
      " [  1 721]]\n",
      "0.9978947368421053\n"
     ]
    }
   ],
   "source": [
    "print(f1_score(y_test,pred3))\n",
    "print(precision_score(y_test,pred3))\n",
    "print(recall_score(y_test,pred3))\n",
    "print(confusion_matrix(y_test,pred3))\n",
    "print(np.mean(y_test==pred3))"
   ]
  },
  {
   "cell_type": "code",
   "execution_count": 23,
   "id": "56876254",
   "metadata": {},
   "outputs": [
    {
     "data": {
      "text/plain": [
       "<AxesSubplot:>"
      ]
     },
     "execution_count": 23,
     "metadata": {},
     "output_type": "execute_result"
    },
    {
     "data": {
      "image/png": "[encoded data removed]",
      "text/plain": [
       "<Figure size 432x288 with 2 Axes>"
      ]
     },
     "metadata": {
      "needs_background": "light"
     },
     "output_type": "display_data"
    }
   ],
   "source": [
    "sns.heatmap(confusion_matrix(y_test,pred3), annot=True, fmt='.2f', cmap='seismic_r')"
   ]
  },
  {
   "cell_type": "markdown",
   "id": "1bb38540",
   "metadata": {},
   "source": [
    "# Support Vector Machine(SVM)"
   ]
  },
  {
   "cell_type": "raw",
   "id": "7b78cd2a",
   "metadata": {},
   "source": [
    "“Support Vector Machine” (SVM) is a supervised machine learning algorithm which can be used for\n",
    "both classification or regression challenges. However, it is mostly used in classification problems."
   ]
  },
  {
   "cell_type": "code",
   "execution_count": 24,
   "id": "72f7dd7f",
   "metadata": {},
   "outputs": [],
   "source": [
    "from sklearn.svm import SVC\n",
    "sv=SVC()\n",
    "model4=sv.fit(X_train,y_train)\n",
    "pred4=model4.predict(X_test)"
   ]
  },
  {
   "cell_type": "code",
   "execution_count": 25,
   "id": "a8be00f8",
   "metadata": {},
   "outputs": [
    {
     "name": "stdout",
     "output_type": "stream",
     "text": [
      "0.8944723618090453\n",
      "0.9284649776453056\n",
      "0.8628808864265928\n",
      "[[655  48]\n",
      " [ 99 623]]\n",
      "0.8968421052631579\n"
     ]
    }
   ],
   "source": [
    "print(f1_score(y_test,pred4))\n",
    "print(precision_score(y_test,pred4))\n",
    "print(recall_score(y_test,pred4))\n",
    "print(confusion_matrix(y_test,pred4))\n",
    "print(np.mean(y_test==pred4))"
   ]
  },
  {
   "cell_type": "code",
   "execution_count": 26,
   "id": "6f3089b9",
   "metadata": {},
   "outputs": [
    {
     "data": {
      "text/plain": [
       "<AxesSubplot:>"
      ]
     },
     "execution_count": 26,
     "metadata": {},
     "output_type": "execute_result"
    },
    {
     "data": {
      "image/png": "[encoded data removed]",
      "text/plain": [
       "<Figure size 432x288 with 2 Axes>"
      ]
     },
     "metadata": {
      "needs_background": "light"
     },
     "output_type": "display_data"
    }
   ],
   "source": [
    "sns.heatmap(confusion_matrix(y_test,pred4), annot=True, fmt='.2f', cmap='seismic_r')"
   ]
  },
  {
   "cell_type": "markdown",
   "id": "11b7e3db",
   "metadata": {},
   "source": [
    "# Naive Bayes(NB)"
   ]
  },
  {
   "cell_type": "raw",
   "id": "6d8f28f7",
   "metadata": {},
   "source": [
    "The Naive Bayes classification algorithm is a probabilistic classifier. It is based on probability models that incorporate strong independence assumptions. A Naive Bayes classifier assumes that the presence of a particular feature in a class is unrelated to the presence of any other feature."
   ]
  },
  {
   "cell_type": "code",
   "execution_count": 27,
   "id": "34dd8267",
   "metadata": {},
   "outputs": [],
   "source": [
    "from sklearn.naive_bayes import GaussianNB\n",
    "nb=GaussianNB()\n",
    "model5=nb.fit(X_train,y_train)\n",
    "pred5=model5.predict(X_test)"
   ]
  },
  {
   "cell_type": "code",
   "execution_count": 28,
   "id": "057bd025",
   "metadata": {},
   "outputs": [
    {
     "name": "stdout",
     "output_type": "stream",
     "text": [
      "0.8020378457059679\n",
      "0.8450920245398773\n",
      "0.7631578947368421\n",
      "[[602 101]\n",
      " [171 551]]\n",
      "0.8091228070175439\n"
     ]
    }
   ],
   "source": [
    "print(f1_score(y_test,pred5))\n",
    "print(precision_score(y_test,pred5))\n",
    "print(recall_score(y_test,pred5))\n",
    "print(confusion_matrix(y_test,pred5))\n",
    "print(np.mean(y_test==pred5))"
   ]
  },
  {
   "cell_type": "code",
   "execution_count": 29,
   "id": "b74932f9",
   "metadata": {},
   "outputs": [
    {
     "data": {
      "text/plain": [
       "<AxesSubplot:>"
      ]
     },
     "execution_count": 29,
     "metadata": {},
     "output_type": "execute_result"
    },
    {
     "data": {
      "image/png": "[encoded data removed]",
      "text/plain": [
       "<Figure size 432x288 with 2 Axes>"
      ]
     },
     "metadata": {
      "needs_background": "light"
     },
     "output_type": "display_data"
    }
   ],
   "source": [
    "sns.heatmap(confusion_matrix(y_test,pred5), annot=True, fmt='.2f', cmap='seismic_r')"
   ]
  },
  {
   "cell_type": "markdown",
   "id": "d4245fd6",
   "metadata": {},
   "source": [
    "# XGboost"
   ]
  },
  {
   "cell_type": "raw",
   "id": "7faff2c9",
   "metadata": {},
   "source": [
    "XGBoost is an efficient implementation of gradient boosting that can be used for regression predictive modeling. How to evaluate an XGBoost regression model using the best practice technique of repeated k-fold cross-validation."
   ]
  },
  {
   "cell_type": "code",
   "execution_count": 30,
   "id": "f11f38c4",
   "metadata": {},
   "outputs": [],
   "source": [
    "from xgboost import XGBClassifier\n",
    "xg=XGBClassifier()\n",
    "model6=xg.fit(X_train,y_train)\n",
    "pred6=model6.predict(X_test)"
   ]
  },
  {
   "cell_type": "code",
   "execution_count": 31,
   "id": "63df64c5",
   "metadata": {},
   "outputs": [
    {
     "name": "stdout",
     "output_type": "stream",
     "text": [
      "0.995169082125604\n",
      "0.9917469050894085\n",
      "0.9986149584487535\n",
      "[[697   6]\n",
      " [  1 721]]\n",
      "0.9950877192982456\n"
     ]
    }
   ],
   "source": [
    "print(f1_score(y_test,pred6))\n",
    "print(precision_score(y_test,pred6))\n",
    "print(recall_score(y_test,pred6))\n",
    "print(confusion_matrix(y_test,pred6))\n",
    "print(np.mean(y_test==pred6))"
   ]
  },
  {
   "cell_type": "code",
   "execution_count": 32,
   "id": "49a32312",
   "metadata": {},
   "outputs": [
    {
     "data": {
      "text/plain": [
       "<AxesSubplot:>"
      ]
     },
     "execution_count": 32,
     "metadata": {},
     "output_type": "execute_result"
    },
    {
     "data": {
      "image/png": "[encoded data removed]",
      "text/plain": [
       "<Figure size 432x288 with 2 Axes>"
      ]
     },
     "metadata": {
      "needs_background": "light"
     },
     "output_type": "display_data"
    }
   ],
   "source": [
    "sns.heatmap(confusion_matrix(y_test,pred6), annot=True, fmt='.2f', cmap='seismic_r')"
   ]
  },
  {
   "cell_type": "raw",
   "id": "7c1a85ac",
   "metadata": {},
   "source": [
    "1. LogisticRegression = 0.7670175438596492\n",
    "\n",
    "2. KNN = 0.8975438596491228\n",
    "\n",
    "3. Random Forest = 0.9985964912280701\n",
    "\n",
    "4. SVM = 0.8968421052631579\n",
    "\n",
    "5. NB = 0.8091228070175439\n",
    "\n",
    "6. XG boost = 0.9950877192982456"
   ]
  },
  {
   "cell_type": "raw",
   "id": "cf899339",
   "metadata": {},
   "source": [
    "We have used six diffrent algorithm and we got diffrent accuracy. I have used Logistic Regression, k-nearest neighbors, Support Vector Machine, Random Forest, Naive Bayes, XGBoost.\n",
    "In this i can see that Random forest and XGBoost is having good accuracy. Random Forest = 0.9985964912280701 and XG boost = 0.9950877192982456. Hence my final algorithm is Random Forest."
   ]
  },
  {
   "cell_type": "markdown",
   "id": "0ab7eb94",
   "metadata": {},
   "source": [
    "# Select Final Algorithm"
   ]
  },
  {
   "cell_type": "code",
   "execution_count": 33,
   "id": "386db4ea",
   "metadata": {},
   "outputs": [
    {
     "name": "stdout",
     "output_type": "stream",
     "text": [
      "FInal Model is Random forest with avg: 0.9985964912280701% \n"
     ]
    }
   ],
   "source": [
    "print(\"FInal Model is Random forest with avg: 0.9985964912280701% \")"
   ]
  },
  {
   "cell_type": "markdown",
   "id": "dae185ec",
   "metadata": {},
   "source": [
    "# HOW TO REDUCE CUSTOMER CHURN"
   ]
  },
  {
   "cell_type": "raw",
   "id": "a6771a69",
   "metadata": {},
   "source": [
    "Lean into your best customers.\n",
    "Be proactive with communication.\n",
    "Define a roadmap for your new customers.\n",
    "Offer incentives.\n",
    "Ask for feedback often.\n",
    "Analyze churn when it happens.\n",
    "Stay competitive\n"
   ]
  },
  {
   "cell_type": "markdown",
   "id": "f5c3a7d7",
   "metadata": {},
   "source": [
    "# CONCLUSION"
   ]
  },
  {
   "cell_type": "raw",
   "id": "3ad436e2",
   "metadata": {},
   "source": [
    "1. The importance of this type of research in the telecom market is to help companies make more profit. \n",
    "   It has become known that predicting churn is one of the most important sources of income to Telecom companies.\n",
    "2. Hence, this research aimed to build a system that predicts the churn of customers i telecom company.\n"
   ]
  },
  {
   "cell_type": "code",
   "execution_count": null,
   "id": "f08ab1f6",
   "metadata": {},
   "outputs": [],
   "source": []
  }
 ],
 "metadata": {
  "kernelspec": {
   "display_name": "Python 3 (ipykernel)",
   "language": "python",
   "name": "python3"
  },
  "language_info": {
   "codemirror_mode": {
    "name": "ipython",
    "version": 3
   },
   "file_extension": ".py",
   "mimetype": "text/x-python",
   "name": "python",
   "nbconvert_exporter": "python",
   "pygments_lexer": "ipython3",
   "version": "3.9.12"
  }
 },
 "nbformat": 4,
 "nbformat_minor": 5
}
